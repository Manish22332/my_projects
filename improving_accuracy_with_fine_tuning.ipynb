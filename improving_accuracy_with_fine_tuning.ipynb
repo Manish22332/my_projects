{
  "nbformat": 4,
  "nbformat_minor": 0,
  "metadata": {
    "kernelspec": {
      "display_name": "Python 3",
      "language": "python",
      "name": "python3"
    },
    "language_info": {
      "codemirror_mode": {
        "name": "ipython",
        "version": 3
      },
      "file_extension": ".py",
      "mimetype": "text/x-python",
      "name": "python",
      "nbconvert_exporter": "python",
      "pygments_lexer": "ipython3",
      "version": "3.6.8"
    },
    "toc": {
      "base_numbering": 1,
      "nav_menu": {},
      "number_sections": true,
      "sideBar": true,
      "skip_h1_title": false,
      "title_cell": "Table of Contents",
      "title_sidebar": "Contents",
      "toc_cell": false,
      "toc_position": {},
      "toc_section_display": true,
      "toc_window_display": false
    },
    "colab": {
      "name": "improving-accuracy-with-fine-tuning.ipynb",
      "provenance": [],
      "include_colab_link": true
    },
    "widgets": {
      "application/vnd.jupyter.widget-state+json": {
        "840c4bf512874f4b9744213ba28ebc2b": {
          "model_module": "@jupyter-widgets/controls",
          "model_name": "HBoxModel",
          "state": {
            "_view_name": "HBoxView",
            "_dom_classes": [],
            "_model_name": "HBoxModel",
            "_view_module": "@jupyter-widgets/controls",
            "_model_module_version": "1.5.0",
            "_view_count": null,
            "_view_module_version": "1.5.0",
            "box_style": "",
            "layout": "IPY_MODEL_f58fc371acdc4dea94d76b167bd530d8",
            "_model_module": "@jupyter-widgets/controls",
            "children": [
              "IPY_MODEL_ef2c303b41294df5ac526d60e700e032",
              "IPY_MODEL_4d18144e741a4e1da3d277bf2428567f"
            ]
          }
        },
        "f58fc371acdc4dea94d76b167bd530d8": {
          "model_module": "@jupyter-widgets/base",
          "model_name": "LayoutModel",
          "state": {
            "_view_name": "LayoutView",
            "grid_template_rows": null,
            "right": null,
            "justify_content": null,
            "_view_module": "@jupyter-widgets/base",
            "overflow": null,
            "_model_module_version": "1.2.0",
            "_view_count": null,
            "flex_flow": null,
            "width": null,
            "min_width": null,
            "border": null,
            "align_items": null,
            "bottom": null,
            "_model_module": "@jupyter-widgets/base",
            "top": null,
            "grid_column": null,
            "overflow_y": null,
            "overflow_x": null,
            "grid_auto_flow": null,
            "grid_area": null,
            "grid_template_columns": null,
            "flex": null,
            "_model_name": "LayoutModel",
            "justify_items": null,
            "grid_row": null,
            "max_height": null,
            "align_content": null,
            "visibility": null,
            "align_self": null,
            "height": null,
            "min_height": null,
            "padding": null,
            "grid_auto_rows": null,
            "grid_gap": null,
            "max_width": null,
            "order": null,
            "_view_module_version": "1.2.0",
            "grid_template_areas": null,
            "object_position": null,
            "object_fit": null,
            "grid_auto_columns": null,
            "margin": null,
            "display": null,
            "left": null
          }
        },
        "ef2c303b41294df5ac526d60e700e032": {
          "model_module": "@jupyter-widgets/controls",
          "model_name": "FloatProgressModel",
          "state": {
            "_view_name": "ProgressView",
            "style": "IPY_MODEL_48a8400f822e4cf094c37b54bfafe7bb",
            "_dom_classes": [],
            "description": "100%",
            "_model_name": "FloatProgressModel",
            "bar_style": "success",
            "max": 8640,
            "_view_module": "@jupyter-widgets/controls",
            "_model_module_version": "1.5.0",
            "value": 8640,
            "_view_count": null,
            "_view_module_version": "1.5.0",
            "orientation": "horizontal",
            "min": 0,
            "description_tooltip": null,
            "_model_module": "@jupyter-widgets/controls",
            "layout": "IPY_MODEL_e104973bb8664912a5c89726e1b11a61"
          }
        },
        "4d18144e741a4e1da3d277bf2428567f": {
          "model_module": "@jupyter-widgets/controls",
          "model_name": "HTMLModel",
          "state": {
            "_view_name": "HTMLView",
            "style": "IPY_MODEL_c08cc0e8a8e649f08ba1302ff20d0963",
            "_dom_classes": [],
            "description": "",
            "_model_name": "HTMLModel",
            "placeholder": "​",
            "_view_module": "@jupyter-widgets/controls",
            "_model_module_version": "1.5.0",
            "value": " 8640/8640 [01:00&lt;00:00, 142.35it/s]",
            "_view_count": null,
            "_view_module_version": "1.5.0",
            "description_tooltip": null,
            "_model_module": "@jupyter-widgets/controls",
            "layout": "IPY_MODEL_705a6aa533824715aa10b49732f6390e"
          }
        },
        "48a8400f822e4cf094c37b54bfafe7bb": {
          "model_module": "@jupyter-widgets/controls",
          "model_name": "ProgressStyleModel",
          "state": {
            "_view_name": "StyleView",
            "_model_name": "ProgressStyleModel",
            "description_width": "initial",
            "_view_module": "@jupyter-widgets/base",
            "_model_module_version": "1.5.0",
            "_view_count": null,
            "_view_module_version": "1.2.0",
            "bar_color": null,
            "_model_module": "@jupyter-widgets/controls"
          }
        },
        "e104973bb8664912a5c89726e1b11a61": {
          "model_module": "@jupyter-widgets/base",
          "model_name": "LayoutModel",
          "state": {
            "_view_name": "LayoutView",
            "grid_template_rows": null,
            "right": null,
            "justify_content": null,
            "_view_module": "@jupyter-widgets/base",
            "overflow": null,
            "_model_module_version": "1.2.0",
            "_view_count": null,
            "flex_flow": null,
            "width": null,
            "min_width": null,
            "border": null,
            "align_items": null,
            "bottom": null,
            "_model_module": "@jupyter-widgets/base",
            "top": null,
            "grid_column": null,
            "overflow_y": null,
            "overflow_x": null,
            "grid_auto_flow": null,
            "grid_area": null,
            "grid_template_columns": null,
            "flex": null,
            "_model_name": "LayoutModel",
            "justify_items": null,
            "grid_row": null,
            "max_height": null,
            "align_content": null,
            "visibility": null,
            "align_self": null,
            "height": null,
            "min_height": null,
            "padding": null,
            "grid_auto_rows": null,
            "grid_gap": null,
            "max_width": null,
            "order": null,
            "_view_module_version": "1.2.0",
            "grid_template_areas": null,
            "object_position": null,
            "object_fit": null,
            "grid_auto_columns": null,
            "margin": null,
            "display": null,
            "left": null
          }
        },
        "c08cc0e8a8e649f08ba1302ff20d0963": {
          "model_module": "@jupyter-widgets/controls",
          "model_name": "DescriptionStyleModel",
          "state": {
            "_view_name": "StyleView",
            "_model_name": "DescriptionStyleModel",
            "description_width": "",
            "_view_module": "@jupyter-widgets/base",
            "_model_module_version": "1.5.0",
            "_view_count": null,
            "_view_module_version": "1.2.0",
            "_model_module": "@jupyter-widgets/controls"
          }
        },
        "705a6aa533824715aa10b49732f6390e": {
          "model_module": "@jupyter-widgets/base",
          "model_name": "LayoutModel",
          "state": {
            "_view_name": "LayoutView",
            "grid_template_rows": null,
            "right": null,
            "justify_content": null,
            "_view_module": "@jupyter-widgets/base",
            "overflow": null,
            "_model_module_version": "1.2.0",
            "_view_count": null,
            "flex_flow": null,
            "width": null,
            "min_width": null,
            "border": null,
            "align_items": null,
            "bottom": null,
            "_model_module": "@jupyter-widgets/base",
            "top": null,
            "grid_column": null,
            "overflow_y": null,
            "overflow_x": null,
            "grid_auto_flow": null,
            "grid_area": null,
            "grid_template_columns": null,
            "flex": null,
            "_model_name": "LayoutModel",
            "justify_items": null,
            "grid_row": null,
            "max_height": null,
            "align_content": null,
            "visibility": null,
            "align_self": null,
            "height": null,
            "min_height": null,
            "padding": null,
            "grid_auto_rows": null,
            "grid_gap": null,
            "max_width": null,
            "order": null,
            "_view_module_version": "1.2.0",
            "grid_template_areas": null,
            "object_position": null,
            "object_fit": null,
            "grid_auto_columns": null,
            "margin": null,
            "display": null,
            "left": null
          }
        }
      }
    }
  },
  "cells": [
    {
      "cell_type": "markdown",
      "metadata": {
        "id": "view-in-github",
        "colab_type": "text"
      },
      "source": [
        "<a href=\"https://colab.research.google.com/github/Manish22332/my_projects/blob/main/improving_accuracy_with_fine_tuning.ipynb\" target=\"_parent\"><img src=\"https://colab.research.google.com/assets/colab-badge.svg\" alt=\"Open In Colab\"/></a>"
      ]
    },
    {
      "cell_type": "code",
      "metadata": {
        "id": "ts7Mcm71c-fi",
        "colab": {
          "base_uri": "https://localhost:8080/",
          "height": 125
        },
        "outputId": "d97193bb-2d5f-4c74-aa84-6f140b66b85a"
      },
      "source": [
        "from google.colab import drive\n",
        "drive.mount('/content/gdrive')"
      ],
      "execution_count": null,
      "outputs": [
        {
          "output_type": "stream",
          "text": [
            "Go to this URL in a browser: https://accounts.google.com/o/oauth2/auth?client_id=947318989803-6bn6qk8qdgf4n4g3pfee6491hc0brc4i.apps.googleusercontent.com&redirect_uri=urn%3aietf%3awg%3aoauth%3a2.0%3aoob&scope=email%20https%3a%2f%2fwww.googleapis.com%2fauth%2fdocs.test%20https%3a%2f%2fwww.googleapis.com%2fauth%2fdrive%20https%3a%2f%2fwww.googleapis.com%2fauth%2fdrive.photos.readonly%20https%3a%2f%2fwww.googleapis.com%2fauth%2fpeopleapi.readonly&response_type=code\n",
            "\n",
            "Enter your authorization code:\n",
            "··········\n",
            "Mounted at /content/gdrive\n"
          ],
          "name": "stdout"
        }
      ]
    },
    {
      "cell_type": "code",
      "metadata": {
        "id": "-ddL1mYRc-7i",
        "colab": {
          "base_uri": "https://localhost:8080/",
          "height": 34
        },
        "outputId": "96a41104-7376-4a85-e896-80ffd79d3b39"
      },
      "source": [
        "cd gdrive/'My Drive'/colab_dataset"
      ],
      "execution_count": null,
      "outputs": [
        {
          "output_type": "stream",
          "text": [
            "/content/gdrive/My Drive/colab_dataset\n"
          ],
          "name": "stdout"
        }
      ]
    },
    {
      "cell_type": "code",
      "metadata": {
        "id": "bTenRv_ScuyG"
      },
      "source": [
        "import numpy as np\n",
        "import pickle\n",
        "from tqdm import tqdm, tqdm_notebook\n",
        "import random\n",
        "import time\n",
        "from sklearn.manifold import TSNE\n",
        "from sklearn.decomposition import PCA\n",
        "import PIL\n",
        "from PIL import Image\n",
        "from sklearn.neighbors import NearestNeighbors\n",
        "import random\n",
        "from textwrap import wrap\n",
        "\n",
        "import glob\n",
        "import matplotlib\n",
        "import matplotlib.pyplot as plt\n",
        "import matplotlib.image as mpimg\n",
        "%matplotlib notebook"
      ],
      "execution_count": null,
      "outputs": []
    },
    {
      "cell_type": "markdown",
      "metadata": {
        "id": "6S1ia192cuyO"
      },
      "source": [
        "We utilize the helper functions we used before in previous notebooks here as well"
      ]
    },
    {
      "cell_type": "code",
      "metadata": {
        "id": "CW6MYmkVcuyP"
      },
      "source": [
        "# Helper function to get the classname\n",
        "def classname(str):\n",
        "    return str.split('/')[-2]"
      ],
      "execution_count": null,
      "outputs": []
    },
    {
      "cell_type": "markdown",
      "metadata": {
        "id": "TO7QdJ8jcuyW"
      },
      "source": [
        "Helper function to display accuracy stats and plot similar images"
      ]
    },
    {
      "cell_type": "code",
      "metadata": {
        "id": "mJ9Cd7n8cuyX"
      },
      "source": [
        "def display(dic, per_class, neighbors, message):\n",
        "    for key in dic:\n",
        "        print(key, \"\\tAccuracy: \", per_class[key])\n",
        "    for each_class in dic:\n",
        "        indices_of_class = [\n",
        "            i for i, j in enumerate(filenames) if classname(j) == each_class\n",
        "        ]\n",
        "        random_image_index = random.choice(indices_of_class)\n",
        "        distances, indices = neighbors.kneighbors(\n",
        "            [feature_list[random_image_index]])\n",
        "        similar_image_paths = [filenames[random_image_index]] + \\\n",
        "            [filenames[indices[0][i]] for i in range(1, 4)]\n",
        "        plot_images(similar_image_paths, distances[0], message)"
      ],
      "execution_count": null,
      "outputs": []
    },
    {
      "cell_type": "markdown",
      "metadata": {
        "id": "hoEg_ziOcuyd"
      },
      "source": [
        "Helper function that calculates accuracy using the Nearest Neighbours Brute force algorithm and returns the classes that the model performed least accurately on"
      ]
    },
    {
      "cell_type": "code",
      "metadata": {
        "id": "CNgYZwG-cuye"
      },
      "source": [
        "def get_least_accurate_classes(feature_list):\n",
        "    per_class_acc = {}\n",
        "    num_nearest_neighbors = 5\n",
        "    num_correct_predictions = 0\n",
        "    num_incorrect_predictions = 0\n",
        "    neighbors = NearestNeighbors(n_neighbors=num_nearest_neighbors,\n",
        "                                 algorithm='brute',\n",
        "                                 metric='euclidean').fit(feature_list)\n",
        "    for i in tqdm_notebook(range(len(feature_list))):\n",
        "        distances, indices = neighbors.kneighbors([feature_list[i]])\n",
        "        for j in range(1, num_nearest_neighbors):\n",
        "            predicted_class = classname(filenames[indices[0][j]])\n",
        "            ground_truth = classname(filenames[i])\n",
        "            if (predicted_class not in per_class_acc):\n",
        "                per_class_acc[predicted_class] = [0, 0, 0]\n",
        "            if ground_truth == predicted_class:\n",
        "                num_correct_predictions += 1\n",
        "                per_class_acc[predicted_class][0] += 1\n",
        "                per_class_acc[predicted_class][2] += 1\n",
        "            else:\n",
        "                num_incorrect_predictions += 1\n",
        "                per_class_acc[predicted_class][1] += 1\n",
        "                per_class_acc[predicted_class][2] += 1\n",
        "    print(\n",
        "        \"Accuracy is \",\n",
        "        round(\n",
        "            100.0 * num_correct_predictions /\n",
        "            (1.0 * num_correct_predictions + num_incorrect_predictions), 2))\n",
        "    for key, value in per_class_acc.items():\n",
        "        per_class_acc[key] = round(100.0 * value[0] / (1.0 * value[2]), 2)\n",
        "    dic = sorted(per_class_acc, key=per_class_acc.get)\n",
        "\n",
        "    # least_accurate classes\n",
        "    print(\"\\n\\nTop 10 incorrect classifications\\n\")\n",
        "    for key in dic[:10]:\n",
        "        print(key, \"\\tAccuracy: \", per_class_acc[key])\n",
        "    return dic[:6], per_class_acc"
      ],
      "execution_count": null,
      "outputs": []
    },
    {
      "cell_type": "markdown",
      "metadata": {
        "id": "KgF4tzTGcuyl"
      },
      "source": [
        "Load the features of the Caltech256 dataset to run our experiments on"
      ]
    },
    {
      "cell_type": "code",
      "metadata": {
        "id": "0hlt895ccuym"
      },
      "source": [
        "# Load dataset features\n",
        "filenames = pickle.load(open('filenames-caltech101.pickle', 'rb'))\n",
        "feature_list = pickle.load(open('features-caltech101-resnet.pickle',\n",
        "                                'rb'), encoding='ISO-8859-1')\n",
        "class_ids = pickle.load(open('class_ids-caltech101.pickle', 'rb'))"
      ],
      "execution_count": null,
      "outputs": []
    },
    {
      "cell_type": "markdown",
      "metadata": {
        "id": "oo5XMTeBcuys"
      },
      "source": [
        "Train the PCA model on the loaded features."
      ]
    },
    {
      "cell_type": "code",
      "metadata": {
        "id": "BI2Yscnycuyt"
      },
      "source": [
        "# Perform PCA over the features\n",
        "# set the number of features intended\n",
        "num_feature_dimensions = 100\n",
        "pca = PCA(n_components=num_feature_dimensions)\n",
        "pca.fit(feature_list)\n",
        "feature_list = pca.transform(feature_list)"
      ],
      "execution_count": null,
      "outputs": []
    },
    {
      "cell_type": "markdown",
      "metadata": {
        "id": "iS6QTPGhcuy0"
      },
      "source": [
        "\n",
        "Note: We are using the classes with the least accuracy because the effect of finetuning is expected be most pronounced on these categories. "
      ]
    },
    {
      "cell_type": "code",
      "metadata": {
        "id": "2xcRsZS6cuy2",
        "colab": {
          "base_uri": "https://localhost:8080/",
          "height": 386,
          "referenced_widgets": [
            "840c4bf512874f4b9744213ba28ebc2b",
            "f58fc371acdc4dea94d76b167bd530d8",
            "ef2c303b41294df5ac526d60e700e032",
            "4d18144e741a4e1da3d277bf2428567f",
            "48a8400f822e4cf094c37b54bfafe7bb",
            "e104973bb8664912a5c89726e1b11a61",
            "c08cc0e8a8e649f08ba1302ff20d0963",
            "705a6aa533824715aa10b49732f6390e"
          ]
        },
        "outputId": "f0a3adee-c8e1-489e-80eb-e34fb2bac316"
      },
      "source": [
        "names_of_least_accurate_classes_before_finetuning, accuracy_per_class_before_finetuning = get_least_accurate_classes(\n",
        "    feature_list[:])"
      ],
      "execution_count": null,
      "outputs": [
        {
          "output_type": "stream",
          "text": [
            "/usr/local/lib/python3.6/dist-packages/ipykernel_launcher.py:9: TqdmDeprecationWarning: This function will be removed in tqdm==5.0.0\n",
            "Please use `tqdm.notebook.tqdm` instead of `tqdm.tqdm_notebook`\n",
            "  if __name__ == '__main__':\n"
          ],
          "name": "stderr"
        },
        {
          "output_type": "display_data",
          "data": {
            "application/vnd.jupyter.widget-view+json": {
              "model_id": "840c4bf512874f4b9744213ba28ebc2b",
              "version_minor": 0,
              "version_major": 2
            },
            "text/plain": [
              "HBox(children=(FloatProgress(value=0.0, max=8640.0), HTML(value='')))"
            ]
          },
          "metadata": {
            "tags": []
          }
        },
        {
          "output_type": "stream",
          "text": [
            "\n",
            "Accuracy is  88.08\n",
            "\n",
            "\n",
            "Top 10 incorrect classifications\n",
            "\n",
            "crocodile \tAccuracy:  41.86\n",
            "water_lilly \tAccuracy:  50.3\n",
            "lobster \tAccuracy:  50.31\n",
            "octopus \tAccuracy:  53.0\n",
            "garfield \tAccuracy:  53.89\n",
            "crocodile_head \tAccuracy:  54.33\n",
            "anchor \tAccuracy:  54.62\n",
            "crayfish \tAccuracy:  58.14\n",
            "crab \tAccuracy:  58.86\n",
            "schooner \tAccuracy:  61.15\n"
          ],
          "name": "stdout"
        }
      ]
    },
    {
      "cell_type": "markdown",
      "metadata": {
        "id": "84j4sxeKcuy8"
      },
      "source": [
        "Print names of the least accurate classes before fine-tuning"
      ]
    },
    {
      "cell_type": "code",
      "metadata": {
        "id": "raJobWu6cuy9",
        "colab": {
          "base_uri": "https://localhost:8080/",
          "height": 123
        },
        "outputId": "9e8e356b-2285-46f2-c058-3298c7a5dcc9"
      },
      "source": [
        "names_of_least_accurate_classes_before_finetuning"
      ],
      "execution_count": null,
      "outputs": [
        {
          "output_type": "execute_result",
          "data": {
            "text/plain": [
              "['crocodile',\n",
              " 'water_lilly',\n",
              " 'lobster',\n",
              " 'octopus',\n",
              " 'garfield',\n",
              " 'crocodile_head']"
            ]
          },
          "metadata": {
            "tags": []
          },
          "execution_count": 10
        }
      ]
    },
    {
      "cell_type": "markdown",
      "metadata": {
        "id": "wrVspmYjcuzE"
      },
      "source": [
        "Combine the features from the 6 least accurate classes into a list so that we can use this list for further experiments and visualization. "
      ]
    },
    {
      "cell_type": "code",
      "metadata": {
        "id": "mNvpzNcIcuzF"
      },
      "source": [
        "least_accurate_feature_list = []\n",
        "least_accurate_filenames = []\n",
        "least_accurate_count = {}\n",
        "for index, filename in enumerate(filenames):\n",
        "    if classname(filename) not in least_accurate_count:\n",
        "        least_accurate_count[classname(filename)] = 0\n",
        "    if classname(\n",
        "            filename\n",
        "    ) in names_of_least_accurate_classes_before_finetuning and least_accurate_count[\n",
        "            classname(filename)] <= 50:\n",
        "        least_accurate_feature_list.append(feature_list[index])\n",
        "        least_accurate_count[classname(filename)] += 1\n",
        "        least_accurate_filenames.append(class_ids[index])"
      ],
      "execution_count": null,
      "outputs": []
    },
    {
      "cell_type": "markdown",
      "metadata": {
        "id": "kdQFRj0ecuzK"
      },
      "source": [
        "Train t-SNE only on the 6 least accurate classes."
      ]
    },
    {
      "cell_type": "code",
      "metadata": {
        "id": "grvGFKeacuzL",
        "colab": {
          "base_uri": "https://localhost:8080/",
          "height": 158
        },
        "outputId": "ea8eb367-715f-4b5b-dd7b-315e32244eae"
      },
      "source": [
        "from sklearn.manifold import TSNE\n",
        "selected_features = least_accurate_feature_list\n",
        "selected_class_ids = least_accurate_filenames\n",
        "selected_filenames = least_accurate_filenames\n",
        "time_start = time.time()\n",
        "tsne_results = TSNE(n_components=2, verbose=1,\n",
        "                    metric='euclidean').fit_transform(selected_features)\n",
        "# tsne = TSNE(n_components=2, verbose=1, perplexity=40, n_iter=250, metric=’euclidean’)\n",
        "print('t-SNE done! Time elapsed: {} seconds'.format(time.time() - time_start))"
      ],
      "execution_count": null,
      "outputs": [
        {
          "output_type": "stream",
          "text": [
            "[t-SNE] Computing 91 nearest neighbors...\n",
            "[t-SNE] Indexed 248 samples in 0.002s...\n",
            "[t-SNE] Computed neighbors for 248 samples in 0.034s...\n",
            "[t-SNE] Computed conditional probabilities for sample 248 / 248\n",
            "[t-SNE] Mean sigma: 58.914943\n",
            "[t-SNE] KL divergence after 250 iterations with early exaggeration: 64.249565\n",
            "[t-SNE] KL divergence after 1000 iterations: 0.548132\n",
            "t-SNE done! Time elapsed: 1.3458116054534912 seconds\n"
          ],
          "name": "stdout"
        }
      ]
    },
    {
      "cell_type": "markdown",
      "metadata": {
        "id": "R_yYft2tcuzU"
      },
      "source": [
        "### t-SNE visualization of feature vectors of least accurate classes before finetuning"
      ]
    },
    {
      "cell_type": "code",
      "metadata": {
        "scrolled": false,
        "id": "zvneumDecuzV"
      },
      "source": [
        "plt.title(\"\\n\".join(\n",
        "    wrap(\n",
        "        \"t-SNE visualization of feature vectors of least accurate classes before finetuning\",\n",
        "        60)))\n",
        "set_classes = list(set(selected_class_ids))\n",
        "# set different markers for all the classes we are going to show\n",
        "markers = [\"^\", \".\", \"s\", \"o\", \"x\", \"P\"]\n",
        "# set different colors for all the classes we are going to show\n",
        "colors = ['red', 'blue', 'fuchsia', 'green', 'purple', 'orange']\n",
        "class_to_marker = {}\n",
        "class_to_color = {}\n",
        "for index in range(len(tsne_results)):\n",
        "    # assign color and marker to each type of class\n",
        "    if selected_class_ids[index] not in class_to_marker:\n",
        "        class_to_marker[selected_class_ids[index]] = markers.pop()\n",
        "    if selected_class_ids[index] not in class_to_color:\n",
        "        class_to_color[selected_class_ids[index]] = colors.pop()\n",
        "    plt.scatter(tsne_results[index, 0],\n",
        "                tsne_results[index, 1],\n",
        "                c=class_to_color[selected_class_ids[index]],\n",
        "                marker=class_to_marker[selected_class_ids[index]],\n",
        "                edgecolor='white',\n",
        "                linewidth='.6',\n",
        "                s=90)\n",
        "plt.show()"
      ],
      "execution_count": null,
      "outputs": []
    },
    {
      "cell_type": "markdown",
      "metadata": {
        "id": "thIlY9ZPcuza"
      },
      "source": [
        "These feature vectors are all over the place! Using these feature vectors in other applications such as classification might not be a good idea as it would be difficult to find a plane of separation between them. \n",
        "\n",
        "\n",
        "Read the finetuned features from the Caltech-256 dataset "
      ]
    },
    {
      "cell_type": "code",
      "metadata": {
        "id": "0S-wgQWBcuzb"
      },
      "source": [
        "filenames = pickle.load(open('filenames-caltech101.pickle', 'rb'))\n",
        "feature_list = pickle.load(open('features-caltech101-resnet-finetuned.pickle',\n",
        "                                'rb'), encoding='ISO-8859-1')\n",
        "class_ids = pickle.load(open('class_ids-caltech101.pickle', 'rb'))"
      ],
      "execution_count": null,
      "outputs": []
    },
    {
      "cell_type": "code",
      "metadata": {
        "id": "hZV1EP-rcuzg"
      },
      "source": [
        "# Perform PCA over the features\n",
        "# set the number of features intended\n",
        "num_feature_dimensions = 100\n",
        "pca = PCA(n_components=num_feature_dimensions)\n",
        "pca.fit(feature_list)\n",
        "feature_list = pca.transform(feature_list)"
      ],
      "execution_count": null,
      "outputs": []
    },
    {
      "cell_type": "markdown",
      "metadata": {
        "id": "TreqJlagcuzo"
      },
      "source": [
        "Combine the features from the 6 least accurate classes into a list so that we can use this list for further experiments and visualization. Note that we are using the same categories (`names_of_least_accurate_classes_before_finetuning`) as before to enable an apples-to-apples comparison."
      ]
    },
    {
      "cell_type": "code",
      "metadata": {
        "id": "rZ68zN0hcuzp"
      },
      "source": [
        "least_accurate_feature_list = []\n",
        "least_accurate_filenames = []\n",
        "least_accurate_count = {}\n",
        "for index, filename in enumerate(filenames):\n",
        "    if classname(filename) not in least_accurate_count:\n",
        "        least_accurate_count[classname(filename)] = 0\n",
        "    if classname(\n",
        "            filename\n",
        "    ) in names_of_least_accurate_classes_before_finetuning and least_accurate_count[\n",
        "            classname(filename)] <= 50:\n",
        "        least_accurate_feature_list.append(feature_list[index])\n",
        "        least_accurate_count[classname(filename)] += 1\n",
        "        least_accurate_filenames.append(class_ids[index])"
      ],
      "execution_count": null,
      "outputs": []
    },
    {
      "cell_type": "markdown",
      "metadata": {
        "id": "y0Q3rJ0acuzt"
      },
      "source": [
        "Train a t-SNE model using the "
      ]
    },
    {
      "cell_type": "code",
      "metadata": {
        "id": "s-_mQ72rcuzu",
        "colab": {
          "base_uri": "https://localhost:8080/",
          "height": 158
        },
        "outputId": "35b50d55-b5f5-4b26-9ecc-5d7ba4784106"
      },
      "source": [
        "from sklearn.manifold import TSNE\n",
        "selected_features = least_accurate_feature_list\n",
        "selected_class_ids = least_accurate_filenames\n",
        "selected_filenames = least_accurate_filenames\n",
        "time_start = time.time()\n",
        "tsne_results = TSNE(n_components=2, verbose=1,\n",
        "                    metric='euclidean').fit_transform(selected_features)\n",
        "# tsne = TSNE(n_components=2, verbose=1, perplexity=40, n_iter=250, metric=’euclidean’)\n",
        "print('t-SNE done! Time elapsed: {} seconds'.format(time.time() - time_start))"
      ],
      "execution_count": null,
      "outputs": [
        {
          "output_type": "stream",
          "text": [
            "[t-SNE] Computing 91 nearest neighbors...\n",
            "[t-SNE] Indexed 248 samples in 0.003s...\n",
            "[t-SNE] Computed neighbors for 248 samples in 0.019s...\n",
            "[t-SNE] Computed conditional probabilities for sample 248 / 248\n",
            "[t-SNE] Mean sigma: 0.208664\n",
            "[t-SNE] KL divergence after 250 iterations with early exaggeration: 60.634331\n",
            "[t-SNE] KL divergence after 1000 iterations: 0.516339\n",
            "t-SNE done! Time elapsed: 1.3103485107421875 seconds\n"
          ],
          "name": "stdout"
        }
      ]
    },
    {
      "cell_type": "markdown",
      "metadata": {
        "id": "VYFrd1_4cuzz"
      },
      "source": [
        "### t-SNE visualization of feature vectors of least accurate classes after finetuning"
      ]
    },
    {
      "cell_type": "code",
      "metadata": {
        "scrolled": true,
        "id": "POhXYpWncuz0"
      },
      "source": [
        "plt.title(\"\\n\".join(\n",
        "    wrap(\n",
        "        \"t-SNE visualization of feature vectors of least accurate classes after finetuning\",\n",
        "        60)))\n",
        "plt.tight_layout()\n",
        "set_classes = list(set(selected_class_ids))\n",
        "markers = [\"^\", \".\", \"s\", \"o\", \"x\", \"P\"]\n",
        "colors = ['red', 'blue', 'fuchsia', 'green', 'purple', 'orange']\n",
        "class_to_marker = {}\n",
        "class_to_color = {}\n",
        "for index in range(len(tsne_results)):\n",
        "    # get only those tsne_results which belong to each_class\n",
        "    if selected_class_ids[index] not in class_to_marker:\n",
        "        class_to_marker[selected_class_ids[index]] = markers.pop()\n",
        "    if selected_class_ids[index] not in class_to_color:\n",
        "        class_to_color[selected_class_ids[index]] = colors.pop()\n",
        "    scatterPlot = plt.scatter(\n",
        "        tsne_results[index, 0],\n",
        "        tsne_results[index, 1],\n",
        "        c=class_to_color[selected_class_ids[index]],\n",
        "        marker=class_to_marker[selected_class_ids[index]],\n",
        "        edgecolor='white',\n",
        "        linewidth='.6',\n",
        "        s=80)\n",
        "plt.show()"
      ],
      "execution_count": null,
      "outputs": []
    }
  ]
}